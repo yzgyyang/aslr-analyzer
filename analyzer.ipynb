{
 "cells": [
  {
   "cell_type": "code",
   "execution_count": 1,
   "metadata": {
    "collapsed": true
   },
   "outputs": [],
   "source": [
    "import numpy as np\n",
    "\n",
    "from bokeh.plotting import figure, output_notebook, show\n",
    "from bokeh.layouts import gridplot\n",
    "from operator import itemgetter\n",
    "\n",
    "import ast"
   ]
  },
  {
   "cell_type": "code",
   "execution_count": 2,
   "metadata": {},
   "outputs": [
    {
     "data": {
      "text/html": [
       "\n",
       "    <div class=\"bk-root\">\n",
       "        <a href=\"http://bokeh.pydata.org\" target=\"_blank\" class=\"bk-logo bk-logo-small bk-logo-notebook\"></a>\n",
       "        <span id=\"0c178594-083d-4ec7-9415-07b39a9856c1\">Loading BokehJS ...</span>\n",
       "    </div>"
      ]
     },
     "metadata": {},
     "output_type": "display_data"
    },
    {
     "data": {
      "application/javascript": [
       "\n",
       "(function(global) {\n",
       "  function now() {\n",
       "    return new Date();\n",
       "  }\n",
       "\n",
       "  var force = true;\n",
       "\n",
       "  if (typeof (window._bokeh_onload_callbacks) === \"undefined\" || force === true) {\n",
       "    window._bokeh_onload_callbacks = [];\n",
       "    window._bokeh_is_loading = undefined;\n",
       "  }\n",
       "\n",
       "\n",
       "  \n",
       "  if (typeof (window._bokeh_timeout) === \"undefined\" || force === true) {\n",
       "    window._bokeh_timeout = Date.now() + 5000;\n",
       "    window._bokeh_failed_load = false;\n",
       "  }\n",
       "\n",
       "  var NB_LOAD_WARNING = {'data': {'text/html':\n",
       "     \"<div style='background-color: #fdd'>\\n\"+\n",
       "     \"<p>\\n\"+\n",
       "     \"BokehJS does not appear to have successfully loaded. If loading BokehJS from CDN, this \\n\"+\n",
       "     \"may be due to a slow or bad network connection. Possible fixes:\\n\"+\n",
       "     \"</p>\\n\"+\n",
       "     \"<ul>\\n\"+\n",
       "     \"<li>re-rerun `output_notebook()` to attempt to load from CDN again, or</li>\\n\"+\n",
       "     \"<li>use INLINE resources instead, as so:</li>\\n\"+\n",
       "     \"</ul>\\n\"+\n",
       "     \"<code>\\n\"+\n",
       "     \"from bokeh.resources import INLINE\\n\"+\n",
       "     \"output_notebook(resources=INLINE)\\n\"+\n",
       "     \"</code>\\n\"+\n",
       "     \"</div>\"}};\n",
       "\n",
       "  function display_loaded() {\n",
       "    if (window.Bokeh !== undefined) {\n",
       "      var el = document.getElementById(\"0c178594-083d-4ec7-9415-07b39a9856c1\");\n",
       "      el.textContent = \"BokehJS \" + Bokeh.version + \" successfully loaded.\";\n",
       "    } else if (Date.now() < window._bokeh_timeout) {\n",
       "      setTimeout(display_loaded, 100)\n",
       "    }\n",
       "  }\n",
       "\n",
       "  function run_callbacks() {\n",
       "    try {\n",
       "      window._bokeh_onload_callbacks.forEach(function(callback) { callback() });\n",
       "    }\n",
       "    finally {\n",
       "      delete window._bokeh_onload_callbacks\n",
       "    }\n",
       "    console.info(\"Bokeh: all callbacks have finished\");\n",
       "  }\n",
       "\n",
       "  function load_libs(js_urls, callback) {\n",
       "    window._bokeh_onload_callbacks.push(callback);\n",
       "    if (window._bokeh_is_loading > 0) {\n",
       "      console.log(\"Bokeh: BokehJS is being loaded, scheduling callback at\", now());\n",
       "      return null;\n",
       "    }\n",
       "    if (js_urls == null || js_urls.length === 0) {\n",
       "      run_callbacks();\n",
       "      return null;\n",
       "    }\n",
       "    console.log(\"Bokeh: BokehJS not loaded, scheduling load and callback at\", now());\n",
       "    window._bokeh_is_loading = js_urls.length;\n",
       "    for (var i = 0; i < js_urls.length; i++) {\n",
       "      var url = js_urls[i];\n",
       "      var s = document.createElement('script');\n",
       "      s.src = url;\n",
       "      s.async = false;\n",
       "      s.onreadystatechange = s.onload = function() {\n",
       "        window._bokeh_is_loading--;\n",
       "        if (window._bokeh_is_loading === 0) {\n",
       "          console.log(\"Bokeh: all BokehJS libraries loaded\");\n",
       "          run_callbacks()\n",
       "        }\n",
       "      };\n",
       "      s.onerror = function() {\n",
       "        console.warn(\"failed to load library \" + url);\n",
       "      };\n",
       "      console.log(\"Bokeh: injecting script tag for BokehJS library: \", url);\n",
       "      document.getElementsByTagName(\"head\")[0].appendChild(s);\n",
       "    }\n",
       "  };var element = document.getElementById(\"0c178594-083d-4ec7-9415-07b39a9856c1\");\n",
       "  if (element == null) {\n",
       "    console.log(\"Bokeh: ERROR: autoload.js configured with elementid '0c178594-083d-4ec7-9415-07b39a9856c1' but no matching script tag was found. \")\n",
       "    return false;\n",
       "  }\n",
       "\n",
       "  var js_urls = [\"https://cdn.pydata.org/bokeh/release/bokeh-0.12.6.min.js\", \"https://cdn.pydata.org/bokeh/release/bokeh-widgets-0.12.6.min.js\"];\n",
       "\n",
       "  var inline_js = [\n",
       "    function(Bokeh) {\n",
       "      Bokeh.set_log_level(\"info\");\n",
       "    },\n",
       "    \n",
       "    function(Bokeh) {\n",
       "      \n",
       "    },\n",
       "    \n",
       "    function(Bokeh) {\n",
       "      \n",
       "      document.getElementById(\"0c178594-083d-4ec7-9415-07b39a9856c1\").textContent = \"BokehJS is loading...\";\n",
       "    },\n",
       "    function(Bokeh) {\n",
       "      console.log(\"Bokeh: injecting CSS: https://cdn.pydata.org/bokeh/release/bokeh-0.12.6.min.css\");\n",
       "      Bokeh.embed.inject_css(\"https://cdn.pydata.org/bokeh/release/bokeh-0.12.6.min.css\");\n",
       "      console.log(\"Bokeh: injecting CSS: https://cdn.pydata.org/bokeh/release/bokeh-widgets-0.12.6.min.css\");\n",
       "      Bokeh.embed.inject_css(\"https://cdn.pydata.org/bokeh/release/bokeh-widgets-0.12.6.min.css\");\n",
       "    }\n",
       "  ];\n",
       "\n",
       "  function run_inline_js() {\n",
       "    \n",
       "    if ((window.Bokeh !== undefined) || (force === true)) {\n",
       "      for (var i = 0; i < inline_js.length; i++) {\n",
       "        inline_js[i](window.Bokeh);\n",
       "      }if (force === true) {\n",
       "        display_loaded();\n",
       "      }} else if (Date.now() < window._bokeh_timeout) {\n",
       "      setTimeout(run_inline_js, 100);\n",
       "    } else if (!window._bokeh_failed_load) {\n",
       "      console.log(\"Bokeh: BokehJS failed to load within specified timeout.\");\n",
       "      window._bokeh_failed_load = true;\n",
       "    } else if (force !== true) {\n",
       "      var cell = $(document.getElementById(\"0c178594-083d-4ec7-9415-07b39a9856c1\")).parents('.cell').data().cell;\n",
       "      cell.output_area.append_execute_result(NB_LOAD_WARNING)\n",
       "    }\n",
       "\n",
       "  }\n",
       "\n",
       "  if (window._bokeh_is_loading === 0) {\n",
       "    console.log(\"Bokeh: BokehJS loaded, going straight to plotting\");\n",
       "    run_inline_js();\n",
       "  } else {\n",
       "    load_libs(js_urls, function() {\n",
       "      console.log(\"Bokeh: BokehJS plotting callback run at\", now());\n",
       "      run_inline_js();\n",
       "    });\n",
       "  }\n",
       "}(this));"
      ]
     },
     "metadata": {},
     "output_type": "display_data"
    }
   ],
   "source": [
    "# Initialize Bokeh\n",
    "output_notebook()"
   ]
  },
  {
   "cell_type": "code",
   "execution_count": 3,
   "metadata": {
    "collapsed": true
   },
   "outputs": [],
   "source": [
    "# System availability: ['openbsd']\n",
    "SYSTEM = 'openbsd'\n",
    "f = open('data/' + SYSTEM +  '.out', 'r')\n",
    "\n",
    "# Convert input to Python dict of dict\n",
    "c = '[' + f.read() + ']'\n",
    "c = ast.literal_eval(c)"
   ]
  },
  {
   "cell_type": "code",
   "execution_count": 4,
   "metadata": {
    "collapsed": true
   },
   "outputs": [],
   "source": [
    "# [0] exec\n",
    "# [1] malloc4k\n",
    "# [2] malloc4m\n",
    "# [3] mmap4k\n",
    "# [4] mmap4k32\n",
    "# [5] mmap4m\n",
    "# [6] so1\n",
    "# [7] so2\n",
    "# [8] stack\n",
    "TYPE = 6\n",
    "\n",
    "c = [x[TYPE] for x in c]"
   ]
  },
  {
   "cell_type": "code",
   "execution_count": 5,
   "metadata": {},
   "outputs": [
    {
     "name": "stdout",
     "output_type": "stream",
     "text": [
      "100000 11073929232 35196612575248 35185538646016 351855386460\n"
     ]
    }
   ],
   "source": [
    "# Basic Statics\n",
    "len_c = len(c)\n",
    "min_c = c[0]\n",
    "max_c = c[0]\n",
    "for x in c:\n",
    "    if min_c > x:\n",
    "        min_c = x\n",
    "    if max_c < x:\n",
    "        max_c = x\n",
    "range_c = (max_c - min_c)\n",
    "interval_c = int(range_c / 100)\n",
    "print(len_c, min_c, max_c, range_c, interval_c)"
   ]
  },
  {
   "cell_type": "code",
   "execution_count": 6,
   "metadata": {
    "collapsed": true
   },
   "outputs": [],
   "source": [
    "p = figure(plot_width=1200, plot_height=400)"
   ]
  },
  {
   "cell_type": "code",
   "execution_count": 7,
   "metadata": {},
   "outputs": [
    {
     "data": {
      "text/html": [
       "<div style=\"display: table;\"><div style=\"display: table-row;\"><div style=\"display: table-cell;\"><b title=\"bokeh.models.renderers.GlyphRenderer\">GlyphRenderer</b>(</div><div style=\"display: table-cell;\">id&nbsp;=&nbsp;'3ae0aa99-402d-4ddd-af43-1b7e2ee882bb', <span id=\"a4dc40bb-179a-4168-b420-bc5be98ea96f\" style=\"cursor: pointer;\">&hellip;)</span></div></div><div class=\"45798f21-e2eb-4714-97d6-f939c99e8fc2\" style=\"display: none;\"><div style=\"display: table-cell;\"></div><div style=\"display: table-cell;\">data_source&nbsp;=&nbsp;ColumnDataSource(id='0bb8cf0a-85a7-4cf9-a40d-9764f2fe3b59', ...),</div></div><div class=\"45798f21-e2eb-4714-97d6-f939c99e8fc2\" style=\"display: none;\"><div style=\"display: table-cell;\"></div><div style=\"display: table-cell;\">glyph&nbsp;=&nbsp;Circle(id='fdaa44c7-c894-4bfb-9130-c012d020bc7e', ...),</div></div><div class=\"45798f21-e2eb-4714-97d6-f939c99e8fc2\" style=\"display: none;\"><div style=\"display: table-cell;\"></div><div style=\"display: table-cell;\">hover_glyph&nbsp;=&nbsp;None,</div></div><div class=\"45798f21-e2eb-4714-97d6-f939c99e8fc2\" style=\"display: none;\"><div style=\"display: table-cell;\"></div><div style=\"display: table-cell;\">js_event_callbacks&nbsp;=&nbsp;{},</div></div><div class=\"45798f21-e2eb-4714-97d6-f939c99e8fc2\" style=\"display: none;\"><div style=\"display: table-cell;\"></div><div style=\"display: table-cell;\">js_property_callbacks&nbsp;=&nbsp;{},</div></div><div class=\"45798f21-e2eb-4714-97d6-f939c99e8fc2\" style=\"display: none;\"><div style=\"display: table-cell;\"></div><div style=\"display: table-cell;\">level&nbsp;=&nbsp;'glyph',</div></div><div class=\"45798f21-e2eb-4714-97d6-f939c99e8fc2\" style=\"display: none;\"><div style=\"display: table-cell;\"></div><div style=\"display: table-cell;\">muted&nbsp;=&nbsp;False,</div></div><div class=\"45798f21-e2eb-4714-97d6-f939c99e8fc2\" style=\"display: none;\"><div style=\"display: table-cell;\"></div><div style=\"display: table-cell;\">muted_glyph&nbsp;=&nbsp;None,</div></div><div class=\"45798f21-e2eb-4714-97d6-f939c99e8fc2\" style=\"display: none;\"><div style=\"display: table-cell;\"></div><div style=\"display: table-cell;\">name&nbsp;=&nbsp;None,</div></div><div class=\"45798f21-e2eb-4714-97d6-f939c99e8fc2\" style=\"display: none;\"><div style=\"display: table-cell;\"></div><div style=\"display: table-cell;\">nonselection_glyph&nbsp;=&nbsp;Circle(id='c99fdc52-307b-49b0-a24c-7cac634a5870', ...),</div></div><div class=\"45798f21-e2eb-4714-97d6-f939c99e8fc2\" style=\"display: none;\"><div style=\"display: table-cell;\"></div><div style=\"display: table-cell;\">selection_glyph&nbsp;=&nbsp;None,</div></div><div class=\"45798f21-e2eb-4714-97d6-f939c99e8fc2\" style=\"display: none;\"><div style=\"display: table-cell;\"></div><div style=\"display: table-cell;\">subscribed_events&nbsp;=&nbsp;[],</div></div><div class=\"45798f21-e2eb-4714-97d6-f939c99e8fc2\" style=\"display: none;\"><div style=\"display: table-cell;\"></div><div style=\"display: table-cell;\">tags&nbsp;=&nbsp;[],</div></div><div class=\"45798f21-e2eb-4714-97d6-f939c99e8fc2\" style=\"display: none;\"><div style=\"display: table-cell;\"></div><div style=\"display: table-cell;\">visible&nbsp;=&nbsp;True,</div></div><div class=\"45798f21-e2eb-4714-97d6-f939c99e8fc2\" style=\"display: none;\"><div style=\"display: table-cell;\"></div><div style=\"display: table-cell;\">x_range_name&nbsp;=&nbsp;'default',</div></div><div class=\"45798f21-e2eb-4714-97d6-f939c99e8fc2\" style=\"display: none;\"><div style=\"display: table-cell;\"></div><div style=\"display: table-cell;\">y_range_name&nbsp;=&nbsp;'default')</div></div></div>\n",
       "<script>\n",
       "(function() {\n",
       "  var expanded = false;\n",
       "  var ellipsis = document.getElementById(\"a4dc40bb-179a-4168-b420-bc5be98ea96f\");\n",
       "  ellipsis.addEventListener(\"click\", function() {\n",
       "    var rows = document.getElementsByClassName(\"45798f21-e2eb-4714-97d6-f939c99e8fc2\");\n",
       "    for (var i = 0; i < rows.length; i++) {\n",
       "      var el = rows[i];\n",
       "      el.style.display = expanded ? \"none\" : \"table-row\";\n",
       "    }\n",
       "    ellipsis.innerHTML = expanded ? \"&hellip;)\" : \"&lsaquo;&lsaquo;&lsaquo;\";\n",
       "    expanded = !expanded;\n",
       "  });\n",
       "})();\n",
       "</script>\n"
      ],
      "text/plain": [
       "GlyphRenderer(id='3ae0aa99-402d-4ddd-af43-1b7e2ee882bb', ...)"
      ]
     },
     "execution_count": 7,
     "metadata": {},
     "output_type": "execute_result"
    }
   ],
   "source": [
    "p.circle(range(len_c), c, size=0.002, color=\"navy\", alpha=0.5)"
   ]
  },
  {
   "cell_type": "code",
   "execution_count": 8,
   "metadata": {
    "collapsed": true
   },
   "outputs": [],
   "source": [
    "# show(p)"
   ]
  },
  {
   "cell_type": "code",
   "execution_count": 9,
   "metadata": {
    "collapsed": true
   },
   "outputs": [],
   "source": [
    "c2 = {}\n",
    "for x in c:\n",
    "    try:\n",
    "        c2[int(x / interval_c)] += 1\n",
    "    except:\n",
    "        c2[int(x / interval_c)] = 1"
   ]
  },
  {
   "cell_type": "code",
   "execution_count": 10,
   "metadata": {
    "collapsed": true
   },
   "outputs": [],
   "source": [
    "c3 = []\n",
    "for key, value in c2.items():\n",
    "    c3.append([key, value / len_c])\n",
    "c3 = sorted(c3, key=itemgetter(0))"
   ]
  },
  {
   "cell_type": "code",
   "execution_count": 11,
   "metadata": {
    "collapsed": true
   },
   "outputs": [],
   "source": [
    "p = figure(title=\"Histogram (100 bins)\", background_fill_color=\"#E8DDCB\", plot_width=900, plot_height=600)"
   ]
  },
  {
   "cell_type": "code",
   "execution_count": 12,
   "metadata": {
    "collapsed": true
   },
   "outputs": [],
   "source": [
    "measured = [x[1] for x in c3]"
   ]
  },
  {
   "cell_type": "code",
   "execution_count": 13,
   "metadata": {},
   "outputs": [
    {
     "data": {
      "text/html": [
       "<div style=\"display: table;\"><div style=\"display: table-row;\"><div style=\"display: table-cell;\"><b title=\"bokeh.models.renderers.GlyphRenderer\">GlyphRenderer</b>(</div><div style=\"display: table-cell;\">id&nbsp;=&nbsp;'7bcb2f52-7fb2-4f71-8b2b-95346b515b63', <span id=\"296f368b-0d03-4c76-9f20-ba65483f2354\" style=\"cursor: pointer;\">&hellip;)</span></div></div><div class=\"0447cd71-cba2-4b3f-9ff1-9a0c39a1858f\" style=\"display: none;\"><div style=\"display: table-cell;\"></div><div style=\"display: table-cell;\">data_source&nbsp;=&nbsp;ColumnDataSource(id='179925ff-32a3-4ce7-bbed-5092a29a4bc5', ...),</div></div><div class=\"0447cd71-cba2-4b3f-9ff1-9a0c39a1858f\" style=\"display: none;\"><div style=\"display: table-cell;\"></div><div style=\"display: table-cell;\">glyph&nbsp;=&nbsp;Line(id='d54eb67b-4a58-4abb-ac3d-c26f8923680c', ...),</div></div><div class=\"0447cd71-cba2-4b3f-9ff1-9a0c39a1858f\" style=\"display: none;\"><div style=\"display: table-cell;\"></div><div style=\"display: table-cell;\">hover_glyph&nbsp;=&nbsp;None,</div></div><div class=\"0447cd71-cba2-4b3f-9ff1-9a0c39a1858f\" style=\"display: none;\"><div style=\"display: table-cell;\"></div><div style=\"display: table-cell;\">js_event_callbacks&nbsp;=&nbsp;{},</div></div><div class=\"0447cd71-cba2-4b3f-9ff1-9a0c39a1858f\" style=\"display: none;\"><div style=\"display: table-cell;\"></div><div style=\"display: table-cell;\">js_property_callbacks&nbsp;=&nbsp;{},</div></div><div class=\"0447cd71-cba2-4b3f-9ff1-9a0c39a1858f\" style=\"display: none;\"><div style=\"display: table-cell;\"></div><div style=\"display: table-cell;\">level&nbsp;=&nbsp;'glyph',</div></div><div class=\"0447cd71-cba2-4b3f-9ff1-9a0c39a1858f\" style=\"display: none;\"><div style=\"display: table-cell;\"></div><div style=\"display: table-cell;\">muted&nbsp;=&nbsp;False,</div></div><div class=\"0447cd71-cba2-4b3f-9ff1-9a0c39a1858f\" style=\"display: none;\"><div style=\"display: table-cell;\"></div><div style=\"display: table-cell;\">muted_glyph&nbsp;=&nbsp;None,</div></div><div class=\"0447cd71-cba2-4b3f-9ff1-9a0c39a1858f\" style=\"display: none;\"><div style=\"display: table-cell;\"></div><div style=\"display: table-cell;\">name&nbsp;=&nbsp;None,</div></div><div class=\"0447cd71-cba2-4b3f-9ff1-9a0c39a1858f\" style=\"display: none;\"><div style=\"display: table-cell;\"></div><div style=\"display: table-cell;\">nonselection_glyph&nbsp;=&nbsp;Line(id='7f1cde91-99f2-4b05-bc2a-8f8b9a041dc5', ...),</div></div><div class=\"0447cd71-cba2-4b3f-9ff1-9a0c39a1858f\" style=\"display: none;\"><div style=\"display: table-cell;\"></div><div style=\"display: table-cell;\">selection_glyph&nbsp;=&nbsp;None,</div></div><div class=\"0447cd71-cba2-4b3f-9ff1-9a0c39a1858f\" style=\"display: none;\"><div style=\"display: table-cell;\"></div><div style=\"display: table-cell;\">subscribed_events&nbsp;=&nbsp;[],</div></div><div class=\"0447cd71-cba2-4b3f-9ff1-9a0c39a1858f\" style=\"display: none;\"><div style=\"display: table-cell;\"></div><div style=\"display: table-cell;\">tags&nbsp;=&nbsp;[],</div></div><div class=\"0447cd71-cba2-4b3f-9ff1-9a0c39a1858f\" style=\"display: none;\"><div style=\"display: table-cell;\"></div><div style=\"display: table-cell;\">visible&nbsp;=&nbsp;True,</div></div><div class=\"0447cd71-cba2-4b3f-9ff1-9a0c39a1858f\" style=\"display: none;\"><div style=\"display: table-cell;\"></div><div style=\"display: table-cell;\">x_range_name&nbsp;=&nbsp;'default',</div></div><div class=\"0447cd71-cba2-4b3f-9ff1-9a0c39a1858f\" style=\"display: none;\"><div style=\"display: table-cell;\"></div><div style=\"display: table-cell;\">y_range_name&nbsp;=&nbsp;'default')</div></div></div>\n",
       "<script>\n",
       "(function() {\n",
       "  var expanded = false;\n",
       "  var ellipsis = document.getElementById(\"296f368b-0d03-4c76-9f20-ba65483f2354\");\n",
       "  ellipsis.addEventListener(\"click\", function() {\n",
       "    var rows = document.getElementsByClassName(\"0447cd71-cba2-4b3f-9ff1-9a0c39a1858f\");\n",
       "    for (var i = 0; i < rows.length; i++) {\n",
       "      var el = rows[i];\n",
       "      el.style.display = expanded ? \"none\" : \"table-row\";\n",
       "    }\n",
       "    ellipsis.innerHTML = expanded ? \"&hellip;)\" : \"&lsaquo;&lsaquo;&lsaquo;\";\n",
       "    expanded = !expanded;\n",
       "  });\n",
       "})();\n",
       "</script>\n"
      ],
      "text/plain": [
       "GlyphRenderer(id='7bcb2f52-7fb2-4f71-8b2b-95346b515b63', ...)"
      ]
     },
     "execution_count": 13,
     "metadata": {},
     "output_type": "execute_result"
    }
   ],
   "source": [
    "p.line(np.linspace(0, 100, 100), 0.01, line_color=\"#F46D43\", line_width=10, legend=\"Expected\")"
   ]
  },
  {
   "cell_type": "code",
   "execution_count": 14,
   "metadata": {},
   "outputs": [
    {
     "data": {
      "text/html": [
       "<div style=\"display: table;\"><div style=\"display: table-row;\"><div style=\"display: table-cell;\"><b title=\"bokeh.models.renderers.GlyphRenderer\">GlyphRenderer</b>(</div><div style=\"display: table-cell;\">id&nbsp;=&nbsp;'31d61509-926c-40b9-b28a-9eb4c8616fd3', <span id=\"59fefa51-d4dd-476a-b1c2-c27ed3b9c2e3\" style=\"cursor: pointer;\">&hellip;)</span></div></div><div class=\"7d74f6ef-e517-49fc-af64-aabe1f02566f\" style=\"display: none;\"><div style=\"display: table-cell;\"></div><div style=\"display: table-cell;\">data_source&nbsp;=&nbsp;ColumnDataSource(id='abba38e2-5ade-4392-a9b1-1cfc88508985', ...),</div></div><div class=\"7d74f6ef-e517-49fc-af64-aabe1f02566f\" style=\"display: none;\"><div style=\"display: table-cell;\"></div><div style=\"display: table-cell;\">glyph&nbsp;=&nbsp;Line(id='4aa23a18-1a4a-42bf-adc9-d02668a117dc', ...),</div></div><div class=\"7d74f6ef-e517-49fc-af64-aabe1f02566f\" style=\"display: none;\"><div style=\"display: table-cell;\"></div><div style=\"display: table-cell;\">hover_glyph&nbsp;=&nbsp;None,</div></div><div class=\"7d74f6ef-e517-49fc-af64-aabe1f02566f\" style=\"display: none;\"><div style=\"display: table-cell;\"></div><div style=\"display: table-cell;\">js_event_callbacks&nbsp;=&nbsp;{},</div></div><div class=\"7d74f6ef-e517-49fc-af64-aabe1f02566f\" style=\"display: none;\"><div style=\"display: table-cell;\"></div><div style=\"display: table-cell;\">js_property_callbacks&nbsp;=&nbsp;{},</div></div><div class=\"7d74f6ef-e517-49fc-af64-aabe1f02566f\" style=\"display: none;\"><div style=\"display: table-cell;\"></div><div style=\"display: table-cell;\">level&nbsp;=&nbsp;'glyph',</div></div><div class=\"7d74f6ef-e517-49fc-af64-aabe1f02566f\" style=\"display: none;\"><div style=\"display: table-cell;\"></div><div style=\"display: table-cell;\">muted&nbsp;=&nbsp;False,</div></div><div class=\"7d74f6ef-e517-49fc-af64-aabe1f02566f\" style=\"display: none;\"><div style=\"display: table-cell;\"></div><div style=\"display: table-cell;\">muted_glyph&nbsp;=&nbsp;None,</div></div><div class=\"7d74f6ef-e517-49fc-af64-aabe1f02566f\" style=\"display: none;\"><div style=\"display: table-cell;\"></div><div style=\"display: table-cell;\">name&nbsp;=&nbsp;None,</div></div><div class=\"7d74f6ef-e517-49fc-af64-aabe1f02566f\" style=\"display: none;\"><div style=\"display: table-cell;\"></div><div style=\"display: table-cell;\">nonselection_glyph&nbsp;=&nbsp;Line(id='d9a5192d-969c-420a-a10e-4d4a34dc5944', ...),</div></div><div class=\"7d74f6ef-e517-49fc-af64-aabe1f02566f\" style=\"display: none;\"><div style=\"display: table-cell;\"></div><div style=\"display: table-cell;\">selection_glyph&nbsp;=&nbsp;None,</div></div><div class=\"7d74f6ef-e517-49fc-af64-aabe1f02566f\" style=\"display: none;\"><div style=\"display: table-cell;\"></div><div style=\"display: table-cell;\">subscribed_events&nbsp;=&nbsp;[],</div></div><div class=\"7d74f6ef-e517-49fc-af64-aabe1f02566f\" style=\"display: none;\"><div style=\"display: table-cell;\"></div><div style=\"display: table-cell;\">tags&nbsp;=&nbsp;[],</div></div><div class=\"7d74f6ef-e517-49fc-af64-aabe1f02566f\" style=\"display: none;\"><div style=\"display: table-cell;\"></div><div style=\"display: table-cell;\">visible&nbsp;=&nbsp;True,</div></div><div class=\"7d74f6ef-e517-49fc-af64-aabe1f02566f\" style=\"display: none;\"><div style=\"display: table-cell;\"></div><div style=\"display: table-cell;\">x_range_name&nbsp;=&nbsp;'default',</div></div><div class=\"7d74f6ef-e517-49fc-af64-aabe1f02566f\" style=\"display: none;\"><div style=\"display: table-cell;\"></div><div style=\"display: table-cell;\">y_range_name&nbsp;=&nbsp;'default')</div></div></div>\n",
       "<script>\n",
       "(function() {\n",
       "  var expanded = false;\n",
       "  var ellipsis = document.getElementById(\"59fefa51-d4dd-476a-b1c2-c27ed3b9c2e3\");\n",
       "  ellipsis.addEventListener(\"click\", function() {\n",
       "    var rows = document.getElementsByClassName(\"7d74f6ef-e517-49fc-af64-aabe1f02566f\");\n",
       "    for (var i = 0; i < rows.length; i++) {\n",
       "      var el = rows[i];\n",
       "      el.style.display = expanded ? \"none\" : \"table-row\";\n",
       "    }\n",
       "    ellipsis.innerHTML = expanded ? \"&hellip;)\" : \"&lsaquo;&lsaquo;&lsaquo;\";\n",
       "    expanded = !expanded;\n",
       "  });\n",
       "})();\n",
       "</script>\n"
      ],
      "text/plain": [
       "GlyphRenderer(id='31d61509-926c-40b9-b28a-9eb4c8616fd3', ...)"
      ]
     },
     "execution_count": 14,
     "metadata": {},
     "output_type": "execute_result"
    }
   ],
   "source": [
    "p.line([x[0] for x in c3], [x[1] for x in c3], line_color=\"#036564\", line_width=4, legend=\"Result\")"
   ]
  },
  {
   "cell_type": "code",
   "execution_count": 15,
   "metadata": {
    "collapsed": true
   },
   "outputs": [],
   "source": [
    "p.legend.location = \"center_right\"\n",
    "p.legend.background_fill_color = \"darkgrey\"\n",
    "p.xaxis.axis_label = 'bins'\n",
    "p.yaxis.axis_label = 'Probability'"
   ]
  },
  {
   "cell_type": "code",
   "execution_count": 16,
   "metadata": {},
   "outputs": [
    {
     "data": {
      "text/html": [
       "\n",
       "\n",
       "    <div class=\"bk-root\">\n",
       "        <div class=\"bk-plotdiv\" id=\"400b9b15-da89-45d6-8034-1c18865f1632\"></div>\n",
       "    </div>\n",
       "<script type=\"text/javascript\">\n",
       "  \n",
       "  (function(global) {\n",
       "    function now() {\n",
       "      return new Date();\n",
       "    }\n",
       "  \n",
       "    var force = false;\n",
       "  \n",
       "    if (typeof (window._bokeh_onload_callbacks) === \"undefined\" || force === true) {\n",
       "      window._bokeh_onload_callbacks = [];\n",
       "      window._bokeh_is_loading = undefined;\n",
       "    }\n",
       "  \n",
       "  \n",
       "    \n",
       "    if (typeof (window._bokeh_timeout) === \"undefined\" || force === true) {\n",
       "      window._bokeh_timeout = Date.now() + 0;\n",
       "      window._bokeh_failed_load = false;\n",
       "    }\n",
       "  \n",
       "    var NB_LOAD_WARNING = {'data': {'text/html':\n",
       "       \"<div style='background-color: #fdd'>\\n\"+\n",
       "       \"<p>\\n\"+\n",
       "       \"BokehJS does not appear to have successfully loaded. If loading BokehJS from CDN, this \\n\"+\n",
       "       \"may be due to a slow or bad network connection. Possible fixes:\\n\"+\n",
       "       \"</p>\\n\"+\n",
       "       \"<ul>\\n\"+\n",
       "       \"<li>re-rerun `output_notebook()` to attempt to load from CDN again, or</li>\\n\"+\n",
       "       \"<li>use INLINE resources instead, as so:</li>\\n\"+\n",
       "       \"</ul>\\n\"+\n",
       "       \"<code>\\n\"+\n",
       "       \"from bokeh.resources import INLINE\\n\"+\n",
       "       \"output_notebook(resources=INLINE)\\n\"+\n",
       "       \"</code>\\n\"+\n",
       "       \"</div>\"}};\n",
       "  \n",
       "    function display_loaded() {\n",
       "      if (window.Bokeh !== undefined) {\n",
       "        var el = document.getElementById(\"400b9b15-da89-45d6-8034-1c18865f1632\");\n",
       "        el.textContent = \"BokehJS \" + Bokeh.version + \" successfully loaded.\";\n",
       "      } else if (Date.now() < window._bokeh_timeout) {\n",
       "        setTimeout(display_loaded, 100)\n",
       "      }\n",
       "    }\n",
       "  \n",
       "    function run_callbacks() {\n",
       "      try {\n",
       "        window._bokeh_onload_callbacks.forEach(function(callback) { callback() });\n",
       "      }\n",
       "      finally {\n",
       "        delete window._bokeh_onload_callbacks\n",
       "      }\n",
       "      console.info(\"Bokeh: all callbacks have finished\");\n",
       "    }\n",
       "  \n",
       "    function load_libs(js_urls, callback) {\n",
       "      window._bokeh_onload_callbacks.push(callback);\n",
       "      if (window._bokeh_is_loading > 0) {\n",
       "        console.log(\"Bokeh: BokehJS is being loaded, scheduling callback at\", now());\n",
       "        return null;\n",
       "      }\n",
       "      if (js_urls == null || js_urls.length === 0) {\n",
       "        run_callbacks();\n",
       "        return null;\n",
       "      }\n",
       "      console.log(\"Bokeh: BokehJS not loaded, scheduling load and callback at\", now());\n",
       "      window._bokeh_is_loading = js_urls.length;\n",
       "      for (var i = 0; i < js_urls.length; i++) {\n",
       "        var url = js_urls[i];\n",
       "        var s = document.createElement('script');\n",
       "        s.src = url;\n",
       "        s.async = false;\n",
       "        s.onreadystatechange = s.onload = function() {\n",
       "          window._bokeh_is_loading--;\n",
       "          if (window._bokeh_is_loading === 0) {\n",
       "            console.log(\"Bokeh: all BokehJS libraries loaded\");\n",
       "            run_callbacks()\n",
       "          }\n",
       "        };\n",
       "        s.onerror = function() {\n",
       "          console.warn(\"failed to load library \" + url);\n",
       "        };\n",
       "        console.log(\"Bokeh: injecting script tag for BokehJS library: \", url);\n",
       "        document.getElementsByTagName(\"head\")[0].appendChild(s);\n",
       "      }\n",
       "    };var element = document.getElementById(\"400b9b15-da89-45d6-8034-1c18865f1632\");\n",
       "    if (element == null) {\n",
       "      console.log(\"Bokeh: ERROR: autoload.js configured with elementid '400b9b15-da89-45d6-8034-1c18865f1632' but no matching script tag was found. \")\n",
       "      return false;\n",
       "    }\n",
       "  \n",
       "    var js_urls = [];\n",
       "  \n",
       "    var inline_js = [\n",
       "      function(Bokeh) {\n",
       "        (function() {\n",
       "          var fn = function() {\n",
       "            var docs_json = {\"7731b4c7-7f72-4460-a99c-1da291e9fbe5\":{\"roots\":{\"references\":[{\"attributes\":{\"background_fill_color\":{\"value\":\"#E8DDCB\"},\"below\":[{\"id\":\"ab1941cd-82e2-4a58-be38-dbdec4497798\",\"type\":\"LinearAxis\"}],\"left\":[{\"id\":\"2b2dca98-6ba4-4989-938e-e70bd1204475\",\"type\":\"LinearAxis\"}],\"plot_width\":900,\"renderers\":[{\"id\":\"ab1941cd-82e2-4a58-be38-dbdec4497798\",\"type\":\"LinearAxis\"},{\"id\":\"ba8141d5-6e8e-4354-93d5-d7d06332070e\",\"type\":\"Grid\"},{\"id\":\"2b2dca98-6ba4-4989-938e-e70bd1204475\",\"type\":\"LinearAxis\"},{\"id\":\"53cd4fd2-66cf-4a3d-934d-18b884a48aa4\",\"type\":\"Grid\"},{\"id\":\"dd34d2a7-5374-4dfd-8fa1-73f72908f9ca\",\"type\":\"BoxAnnotation\"},{\"id\":\"bf76d4a2-51f9-4d6e-a9d3-13240cbe6185\",\"type\":\"Legend\"},{\"id\":\"7bcb2f52-7fb2-4f71-8b2b-95346b515b63\",\"type\":\"GlyphRenderer\"},{\"id\":\"31d61509-926c-40b9-b28a-9eb4c8616fd3\",\"type\":\"GlyphRenderer\"}],\"title\":{\"id\":\"2d39ac90-d9c7-4c9b-9850-e8fe5c708156\",\"type\":\"Title\"},\"tool_events\":{\"id\":\"1b016d83-df69-47c3-9079-6a04ec7d9406\",\"type\":\"ToolEvents\"},\"toolbar\":{\"id\":\"239afdc2-f5fa-4046-90b3-c0ffffbda74f\",\"type\":\"Toolbar\"},\"x_range\":{\"id\":\"f9fc99b8-3df5-4fec-9b0b-e64819299df4\",\"type\":\"DataRange1d\"},\"x_scale\":{\"id\":\"45d8aed1-ddb5-4546-90a3-fb3ef59e9ed6\",\"type\":\"LinearScale\"},\"y_range\":{\"id\":\"f5f07d06-24fe-4a7e-b333-badc9261109b\",\"type\":\"DataRange1d\"},\"y_scale\":{\"id\":\"d768ea2e-bebc-4b49-9104-4f1ecc1f21b0\",\"type\":\"LinearScale\"}},\"id\":\"cd034a2d-a405-452c-a6a8-4149f8bd57db\",\"subtype\":\"Figure\",\"type\":\"Plot\"},{\"attributes\":{\"line_alpha\":{\"value\":0.1},\"line_color\":{\"value\":\"#1f77b4\"},\"line_width\":{\"value\":10},\"x\":{\"field\":\"x\"},\"y\":{\"value\":0.01}},\"id\":\"7f1cde91-99f2-4b05-bc2a-8f8b9a041dc5\",\"type\":\"Line\"},{\"attributes\":{\"callback\":null,\"column_names\":[\"x\"],\"data\":{\"x\":{\"__ndarray__\":\"AAAAAAAAAAB/pUCtXynwP3+lQK1fKQBAPvjggw8+CEB/pUCtXykQQN/OkJi3MxRAPvjggw8+GECeITFvZ0gcQH+lQK1fKSBAL7rooosuIkDfzpCYtzMkQI/jOI7jOCZAPvjggw8+KEDuDIl5O0MqQJ4hMW9nSCxATjbZZJNNLkB/pUCtXykwQNevFKj1KzFAL7rooosuMkCHxLydITEzQN/OkJi3MzRAN9lkk002NUCP4ziO4zg2QOftDIl5OzdAPvjggw8+OECWArV+pUA5QO4MiXk7QzpARhdddNFFO0CeITFvZ0g8QPYrBWr9Sj1ATjbZZJNNPkCmQK1fKVA/QH+lQK1fKUBAq6qqqqqqQEDXrxSo9StBQAO1fqVArUFAL7rooosuQkBbv1Kg1q9CQIfEvJ0hMUNAs8kmm2yyQ0DfzpCYtzNEQAvU+pUCtURAN9lkk002RUBj3s6QmLdFQI/jOI7jOEZAu+iiiy66RkDn7QyJeTtHQBPzdobEvEdAPvjggw8+SEBq/UqBWr9IQJYCtX6lQElAwgcffPDBSUDuDIl5O0NKQBoS83aGxEpARhdddNFFS0ByHMdxHMdLQJ4hMW9nSExAyiabbLLJTED2KwVq/UpNQCIxb2dIzE1ATjbZZJNNTkB6O0Ni3s5OQKZArV8pUE9A0kUXXXTRT0B/pUCtXylQQBWo9SsFalBAq6qqqqqqUEBBrV8pUOtQQNevFKj1K1FAbbLJJptsUUADtX6lQK1RQJm3MyTm7VFAL7rooosuUkDFvJ0hMW9SQFu/UqDWr1JA8cEHH3zwUkCHxLydITFTQB3HcRzHcVNAs8kmm2yyU0BJzNsZEvNTQN/OkJi3M1RAddFFF110VEAL1PqVArVUQKHWrxSo9VRAN9lkk002VUDN2xkS83ZVQGPezpCYt1VA+eCDDz74VUCP4ziO4zhWQCXm7QyJeVZAu+iiiy66VkBR61cK1PpWQOftDIl5O1dAffDBBx98V0AT83aGxLxXQKn1KwVq/VdAPvjggw8+WEDU+pUCtX5YQGr9SoFav1hAAAAAAAAAWUA=\",\"dtype\":\"float64\",\"shape\":[100]}}},\"id\":\"179925ff-32a3-4ce7-bbed-5092a29a4bc5\",\"type\":\"ColumnDataSource\"},{\"attributes\":{\"line_color\":{\"value\":\"#F46D43\"},\"line_width\":{\"value\":10},\"x\":{\"field\":\"x\"},\"y\":{\"value\":0.01}},\"id\":\"d54eb67b-4a58-4abb-ac3d-c26f8923680c\",\"type\":\"Line\"},{\"attributes\":{\"background_fill_color\":{\"value\":\"darkgrey\"},\"items\":[{\"id\":\"02af66c0-c8e1-4b16-9021-dd1832042289\",\"type\":\"LegendItem\"},{\"id\":\"d67895f6-f996-4407-af43-45ef28c3f3f7\",\"type\":\"LegendItem\"}],\"location\":\"center_right\",\"plot\":{\"id\":\"cd034a2d-a405-452c-a6a8-4149f8bd57db\",\"subtype\":\"Figure\",\"type\":\"Plot\"}},\"id\":\"bf76d4a2-51f9-4d6e-a9d3-13240cbe6185\",\"type\":\"Legend\"},{\"attributes\":{\"label\":{\"value\":\"Expected\"},\"renderers\":[{\"id\":\"7bcb2f52-7fb2-4f71-8b2b-95346b515b63\",\"type\":\"GlyphRenderer\"}]},\"id\":\"02af66c0-c8e1-4b16-9021-dd1832042289\",\"type\":\"LegendItem\"},{\"attributes\":{\"label\":{\"value\":\"Result\"},\"renderers\":[{\"id\":\"31d61509-926c-40b9-b28a-9eb4c8616fd3\",\"type\":\"GlyphRenderer\"}]},\"id\":\"d67895f6-f996-4407-af43-45ef28c3f3f7\",\"type\":\"LegendItem\"},{\"attributes\":{},\"id\":\"c5b2b4cc-debe-4de4-90b3-bb11587c47f3\",\"type\":\"BasicTicker\"},{\"attributes\":{\"axis_label\":\"bins\",\"formatter\":{\"id\":\"5f375a97-204f-4027-9049-8d94214a7aa2\",\"type\":\"BasicTickFormatter\"},\"plot\":{\"id\":\"cd034a2d-a405-452c-a6a8-4149f8bd57db\",\"subtype\":\"Figure\",\"type\":\"Plot\"},\"ticker\":{\"id\":\"c3b43d9e-a3b4-4b8d-99dd-41409ce8087f\",\"type\":\"BasicTicker\"}},\"id\":\"ab1941cd-82e2-4a58-be38-dbdec4497798\",\"type\":\"LinearAxis\"},{\"attributes\":{},\"id\":\"45d8aed1-ddb5-4546-90a3-fb3ef59e9ed6\",\"type\":\"LinearScale\"},{\"attributes\":{},\"id\":\"d768ea2e-bebc-4b49-9104-4f1ecc1f21b0\",\"type\":\"LinearScale\"},{\"attributes\":{\"callback\":null},\"id\":\"f9fc99b8-3df5-4fec-9b0b-e64819299df4\",\"type\":\"DataRange1d\"},{\"attributes\":{\"callback\":null,\"column_names\":[\"x\",\"y\"],\"data\":{\"x\":[0,1,2,3,4,5,6,7,8,9,10,11,12,13,14,15,16,17,18,19,20,21,22,23,24,25,26,27,28,29,30,31,32,33,34,35,36,37,38,39,40,41,42,43,44,45,46,47,48,49,50,51,52,53,54,55,56,57,58,59,60,61,62,63,64,65,66,67,68,69,70,71,72,73,74,75,76,77,78,79,80,81,82,83,84,85,86,87,88,89,90,91,92,93,94,95,96,97,98,99,100],\"y\":[0.00996,0.00984,0.01028,0.01013,0.01022,0.00993,0.0101,0.01,0.01005,0.00995,0.01025,0.00984,0.0097,0.01025,0.01018,0.00997,0.01032,0.00965,0.0101,0.01026,0.00974,0.00983,0.00996,0.00987,0.0097,0.0098,0.01042,0.00958,0.00991,0.01001,0.00976,0.01006,0.01011,0.00973,0.00995,0.00963,0.01026,0.0096,0.01009,0.01029,0.01015,0.0097,0.01014,0.00998,0.01032,0.00987,0.00999,0.0101,0.00989,0.01058,0.00985,0.01033,0.01007,0.00992,0.00969,0.00965,0.01023,0.00974,0.01037,0.00982,0.0101,0.00967,0.00978,0.00986,0.00983,0.01029,0.00987,0.01013,0.00996,0.01012,0.01002,0.0099,0.01036,0.01009,0.01056,0.01014,0.0101,0.01022,0.01018,0.01005,0.00943,0.01021,0.00994,0.00994,0.01,0.01022,0.00968,0.01008,0.01019,0.00988,0.00945,0.00985,0.0109,0.00994,0.01034,0.00943,0.00975,0.00964,0.01,0.00999,0.00024]}},\"id\":\"abba38e2-5ade-4392-a9b1-1cfc88508985\",\"type\":\"ColumnDataSource\"},{\"attributes\":{\"line_color\":{\"value\":\"#036564\"},\"line_width\":{\"value\":4},\"x\":{\"field\":\"x\"},\"y\":{\"field\":\"y\"}},\"id\":\"4aa23a18-1a4a-42bf-adc9-d02668a117dc\",\"type\":\"Line\"},{\"attributes\":{\"dimension\":1,\"plot\":{\"id\":\"cd034a2d-a405-452c-a6a8-4149f8bd57db\",\"subtype\":\"Figure\",\"type\":\"Plot\"},\"ticker\":{\"id\":\"c5b2b4cc-debe-4de4-90b3-bb11587c47f3\",\"type\":\"BasicTicker\"}},\"id\":\"53cd4fd2-66cf-4a3d-934d-18b884a48aa4\",\"type\":\"Grid\"},{\"attributes\":{\"line_alpha\":{\"value\":0.1},\"line_color\":{\"value\":\"#1f77b4\"},\"line_width\":{\"value\":4},\"x\":{\"field\":\"x\"},\"y\":{\"field\":\"y\"}},\"id\":\"d9a5192d-969c-420a-a10e-4d4a34dc5944\",\"type\":\"Line\"},{\"attributes\":{\"data_source\":{\"id\":\"abba38e2-5ade-4392-a9b1-1cfc88508985\",\"type\":\"ColumnDataSource\"},\"glyph\":{\"id\":\"4aa23a18-1a4a-42bf-adc9-d02668a117dc\",\"type\":\"Line\"},\"hover_glyph\":null,\"muted_glyph\":null,\"nonselection_glyph\":{\"id\":\"d9a5192d-969c-420a-a10e-4d4a34dc5944\",\"type\":\"Line\"},\"selection_glyph\":null},\"id\":\"31d61509-926c-40b9-b28a-9eb4c8616fd3\",\"type\":\"GlyphRenderer\"},{\"attributes\":{},\"id\":\"c3b43d9e-a3b4-4b8d-99dd-41409ce8087f\",\"type\":\"BasicTicker\"},{\"attributes\":{\"plot\":null,\"text\":\"Histogram (100 bins)\"},\"id\":\"2d39ac90-d9c7-4c9b-9850-e8fe5c708156\",\"type\":\"Title\"},{\"attributes\":{\"plot\":{\"id\":\"cd034a2d-a405-452c-a6a8-4149f8bd57db\",\"subtype\":\"Figure\",\"type\":\"Plot\"}},\"id\":\"7c9d4f72-2d6f-4c87-b41a-8fb58e75e250\",\"type\":\"ResetTool\"},{\"attributes\":{\"data_source\":{\"id\":\"179925ff-32a3-4ce7-bbed-5092a29a4bc5\",\"type\":\"ColumnDataSource\"},\"glyph\":{\"id\":\"d54eb67b-4a58-4abb-ac3d-c26f8923680c\",\"type\":\"Line\"},\"hover_glyph\":null,\"muted_glyph\":null,\"nonselection_glyph\":{\"id\":\"7f1cde91-99f2-4b05-bc2a-8f8b9a041dc5\",\"type\":\"Line\"},\"selection_glyph\":null},\"id\":\"7bcb2f52-7fb2-4f71-8b2b-95346b515b63\",\"type\":\"GlyphRenderer\"},{\"attributes\":{\"plot\":{\"id\":\"cd034a2d-a405-452c-a6a8-4149f8bd57db\",\"subtype\":\"Figure\",\"type\":\"Plot\"},\"ticker\":{\"id\":\"c3b43d9e-a3b4-4b8d-99dd-41409ce8087f\",\"type\":\"BasicTicker\"}},\"id\":\"ba8141d5-6e8e-4354-93d5-d7d06332070e\",\"type\":\"Grid\"},{\"attributes\":{\"plot\":{\"id\":\"cd034a2d-a405-452c-a6a8-4149f8bd57db\",\"subtype\":\"Figure\",\"type\":\"Plot\"}},\"id\":\"569483a6-e8a0-41b1-a03a-2792ba4d9bb2\",\"type\":\"HelpTool\"},{\"attributes\":{},\"id\":\"5f375a97-204f-4027-9049-8d94214a7aa2\",\"type\":\"BasicTickFormatter\"},{\"attributes\":{\"active_drag\":\"auto\",\"active_inspect\":\"auto\",\"active_scroll\":\"auto\",\"active_tap\":\"auto\",\"tools\":[{\"id\":\"688b827f-f371-4dd8-9858-6c497bcbdf8b\",\"type\":\"PanTool\"},{\"id\":\"89fa5812-12b8-46d3-9952-1c05464acce0\",\"type\":\"WheelZoomTool\"},{\"id\":\"2fba9215-b53f-4caa-a697-12e84c59ce2f\",\"type\":\"BoxZoomTool\"},{\"id\":\"a6b54be0-8078-4050-a5dc-e2d509fcbd20\",\"type\":\"SaveTool\"},{\"id\":\"7c9d4f72-2d6f-4c87-b41a-8fb58e75e250\",\"type\":\"ResetTool\"},{\"id\":\"569483a6-e8a0-41b1-a03a-2792ba4d9bb2\",\"type\":\"HelpTool\"}]},\"id\":\"239afdc2-f5fa-4046-90b3-c0ffffbda74f\",\"type\":\"Toolbar\"},{\"attributes\":{\"plot\":{\"id\":\"cd034a2d-a405-452c-a6a8-4149f8bd57db\",\"subtype\":\"Figure\",\"type\":\"Plot\"}},\"id\":\"688b827f-f371-4dd8-9858-6c497bcbdf8b\",\"type\":\"PanTool\"},{\"attributes\":{\"plot\":{\"id\":\"cd034a2d-a405-452c-a6a8-4149f8bd57db\",\"subtype\":\"Figure\",\"type\":\"Plot\"}},\"id\":\"a6b54be0-8078-4050-a5dc-e2d509fcbd20\",\"type\":\"SaveTool\"},{\"attributes\":{\"axis_label\":\"Probability\",\"formatter\":{\"id\":\"2163c4d9-e9a6-4627-afa8-c4d91a17ced0\",\"type\":\"BasicTickFormatter\"},\"plot\":{\"id\":\"cd034a2d-a405-452c-a6a8-4149f8bd57db\",\"subtype\":\"Figure\",\"type\":\"Plot\"},\"ticker\":{\"id\":\"c5b2b4cc-debe-4de4-90b3-bb11587c47f3\",\"type\":\"BasicTicker\"}},\"id\":\"2b2dca98-6ba4-4989-938e-e70bd1204475\",\"type\":\"LinearAxis\"},{\"attributes\":{\"callback\":null},\"id\":\"f5f07d06-24fe-4a7e-b333-badc9261109b\",\"type\":\"DataRange1d\"},{\"attributes\":{},\"id\":\"2163c4d9-e9a6-4627-afa8-c4d91a17ced0\",\"type\":\"BasicTickFormatter\"},{\"attributes\":{\"plot\":{\"id\":\"cd034a2d-a405-452c-a6a8-4149f8bd57db\",\"subtype\":\"Figure\",\"type\":\"Plot\"}},\"id\":\"89fa5812-12b8-46d3-9952-1c05464acce0\",\"type\":\"WheelZoomTool\"},{\"attributes\":{\"bottom_units\":\"screen\",\"fill_alpha\":{\"value\":0.5},\"fill_color\":{\"value\":\"lightgrey\"},\"left_units\":\"screen\",\"level\":\"overlay\",\"line_alpha\":{\"value\":1.0},\"line_color\":{\"value\":\"black\"},\"line_dash\":[4,4],\"line_width\":{\"value\":2},\"plot\":null,\"render_mode\":\"css\",\"right_units\":\"screen\",\"top_units\":\"screen\"},\"id\":\"dd34d2a7-5374-4dfd-8fa1-73f72908f9ca\",\"type\":\"BoxAnnotation\"},{\"attributes\":{},\"id\":\"1b016d83-df69-47c3-9079-6a04ec7d9406\",\"type\":\"ToolEvents\"},{\"attributes\":{\"overlay\":{\"id\":\"dd34d2a7-5374-4dfd-8fa1-73f72908f9ca\",\"type\":\"BoxAnnotation\"},\"plot\":{\"id\":\"cd034a2d-a405-452c-a6a8-4149f8bd57db\",\"subtype\":\"Figure\",\"type\":\"Plot\"}},\"id\":\"2fba9215-b53f-4caa-a697-12e84c59ce2f\",\"type\":\"BoxZoomTool\"}],\"root_ids\":[\"cd034a2d-a405-452c-a6a8-4149f8bd57db\"]},\"title\":\"Bokeh Application\",\"version\":\"0.12.6\"}};\n",
       "            var render_items = [{\"docid\":\"7731b4c7-7f72-4460-a99c-1da291e9fbe5\",\"elementid\":\"400b9b15-da89-45d6-8034-1c18865f1632\",\"modelid\":\"cd034a2d-a405-452c-a6a8-4149f8bd57db\"}];\n",
       "            \n",
       "            Bokeh.embed.embed_items(docs_json, render_items);\n",
       "          };\n",
       "          if (document.readyState != \"loading\") fn();\n",
       "          else document.addEventListener(\"DOMContentLoaded\", fn);\n",
       "        })();\n",
       "      },\n",
       "      function(Bokeh) {\n",
       "      }\n",
       "    ];\n",
       "  \n",
       "    function run_inline_js() {\n",
       "      \n",
       "      if ((window.Bokeh !== undefined) || (force === true)) {\n",
       "        for (var i = 0; i < inline_js.length; i++) {\n",
       "          inline_js[i](window.Bokeh);\n",
       "        }if (force === true) {\n",
       "          display_loaded();\n",
       "        }} else if (Date.now() < window._bokeh_timeout) {\n",
       "        setTimeout(run_inline_js, 100);\n",
       "      } else if (!window._bokeh_failed_load) {\n",
       "        console.log(\"Bokeh: BokehJS failed to load within specified timeout.\");\n",
       "        window._bokeh_failed_load = true;\n",
       "      } else if (force !== true) {\n",
       "        var cell = $(document.getElementById(\"400b9b15-da89-45d6-8034-1c18865f1632\")).parents('.cell').data().cell;\n",
       "        cell.output_area.append_execute_result(NB_LOAD_WARNING)\n",
       "      }\n",
       "  \n",
       "    }\n",
       "  \n",
       "    if (window._bokeh_is_loading === 0) {\n",
       "      console.log(\"Bokeh: BokehJS loaded, going straight to plotting\");\n",
       "      run_inline_js();\n",
       "    } else {\n",
       "      load_libs(js_urls, function() {\n",
       "        console.log(\"Bokeh: BokehJS plotting callback run at\", now());\n",
       "        run_inline_js();\n",
       "      });\n",
       "    }\n",
       "  }(this));\n",
       "</script>"
      ]
     },
     "metadata": {},
     "output_type": "display_data"
    }
   ],
   "source": [
    "show(p)"
   ]
  },
  {
   "cell_type": "code",
   "execution_count": 17,
   "metadata": {
    "collapsed": true
   },
   "outputs": [],
   "source": [
    "from bokeh.plotting import figure\n",
    "from bokeh.embed import components\n",
    "\n",
    "script, div = components(p)"
   ]
  },
  {
   "cell_type": "code",
   "execution_count": 18,
   "metadata": {
    "collapsed": true
   },
   "outputs": [],
   "source": [
    "#with open(SYSTEM + '.js', \"w\") as of:\n",
    "#    of.write(script)"
   ]
  },
  {
   "cell_type": "code",
   "execution_count": 19,
   "metadata": {
    "collapsed": true
   },
   "outputs": [],
   "source": [
    "#with open(SYSTEM + '.html', \"w\") as of:\n",
    "#    of.write(div)"
   ]
  },
  {
   "cell_type": "code",
   "execution_count": 22,
   "metadata": {},
   "outputs": [
    {
     "ename": "RuntimeError",
     "evalue": "PhantomJS is not present in PATH. Try \"conda install phantomjs\" or                            \"npm install -g phantomjs-prebuilt\"",
     "output_type": "error",
     "traceback": [
      "\u001b[0;31m---------------------------------------------------------------------------\u001b[0m",
      "\u001b[0;31mFileNotFoundError\u001b[0m                         Traceback (most recent call last)",
      "\u001b[0;32m~/Projects/aslr-analyzer/env/lib/python3.6/site-packages/bokeh/util/dependencies.py\u001b[0m in \u001b[0;36mdetect_phantomjs\u001b[0;34m()\u001b[0m\n\u001b[1;32m     61\u001b[0m     \u001b[0;32mtry\u001b[0m\u001b[0;34m:\u001b[0m\u001b[0;34m\u001b[0m\u001b[0m\n\u001b[0;32m---> 62\u001b[0;31m         \u001b[0mproc\u001b[0m \u001b[0;34m=\u001b[0m \u001b[0mPopen\u001b[0m\u001b[0;34m(\u001b[0m\u001b[0;34m[\u001b[0m\u001b[0mphantomjs_path\u001b[0m\u001b[0;34m,\u001b[0m \u001b[0;34m\"--version\"\u001b[0m\u001b[0;34m]\u001b[0m\u001b[0;34m,\u001b[0m \u001b[0mstdout\u001b[0m\u001b[0;34m=\u001b[0m\u001b[0mPIPE\u001b[0m\u001b[0;34m,\u001b[0m \u001b[0mstderr\u001b[0m\u001b[0;34m=\u001b[0m\u001b[0mPIPE\u001b[0m\u001b[0;34m)\u001b[0m\u001b[0;34m\u001b[0m\u001b[0m\n\u001b[0m\u001b[1;32m     63\u001b[0m         \u001b[0mproc\u001b[0m\u001b[0;34m.\u001b[0m\u001b[0mwait\u001b[0m\u001b[0;34m(\u001b[0m\u001b[0;34m)\u001b[0m\u001b[0;34m\u001b[0m\u001b[0m\n",
      "\u001b[0;32m/usr/lib64/python3.6/subprocess.py\u001b[0m in \u001b[0;36m__init__\u001b[0;34m(self, args, bufsize, executable, stdin, stdout, stderr, preexec_fn, close_fds, shell, cwd, env, universal_newlines, startupinfo, creationflags, restore_signals, start_new_session, pass_fds, encoding, errors)\u001b[0m\n\u001b[1;32m    706\u001b[0m                                 \u001b[0merrread\u001b[0m\u001b[0;34m,\u001b[0m \u001b[0merrwrite\u001b[0m\u001b[0;34m,\u001b[0m\u001b[0;34m\u001b[0m\u001b[0m\n\u001b[0;32m--> 707\u001b[0;31m                                 restore_signals, start_new_session)\n\u001b[0m\u001b[1;32m    708\u001b[0m         \u001b[0;32mexcept\u001b[0m\u001b[0;34m:\u001b[0m\u001b[0;34m\u001b[0m\u001b[0m\n",
      "\u001b[0;32m/usr/lib64/python3.6/subprocess.py\u001b[0m in \u001b[0;36m_execute_child\u001b[0;34m(self, args, executable, preexec_fn, close_fds, pass_fds, cwd, env, startupinfo, creationflags, shell, p2cread, p2cwrite, c2pread, c2pwrite, errread, errwrite, restore_signals, start_new_session)\u001b[0m\n\u001b[1;32m   1332\u001b[0m                                 \u001b[0merr_msg\u001b[0m \u001b[0;34m+=\u001b[0m \u001b[0;34m': '\u001b[0m \u001b[0;34m+\u001b[0m \u001b[0mrepr\u001b[0m\u001b[0;34m(\u001b[0m\u001b[0morig_executable\u001b[0m\u001b[0;34m)\u001b[0m\u001b[0;34m\u001b[0m\u001b[0m\n\u001b[0;32m-> 1333\u001b[0;31m                     \u001b[0;32mraise\u001b[0m \u001b[0mchild_exception_type\u001b[0m\u001b[0;34m(\u001b[0m\u001b[0merrno_num\u001b[0m\u001b[0;34m,\u001b[0m \u001b[0merr_msg\u001b[0m\u001b[0;34m)\u001b[0m\u001b[0;34m\u001b[0m\u001b[0m\n\u001b[0m\u001b[1;32m   1334\u001b[0m                 \u001b[0;32mraise\u001b[0m \u001b[0mchild_exception_type\u001b[0m\u001b[0;34m(\u001b[0m\u001b[0merr_msg\u001b[0m\u001b[0;34m)\u001b[0m\u001b[0;34m\u001b[0m\u001b[0m\n",
      "\u001b[0;31mFileNotFoundError\u001b[0m: [Errno 2] No such file or directory: 'phantomjs'",
      "\nDuring handling of the above exception, another exception occurred:\n",
      "\u001b[0;31mRuntimeError\u001b[0m                              Traceback (most recent call last)",
      "\u001b[0;32m<ipython-input-22-87a5a093ef1f>\u001b[0m in \u001b[0;36m<module>\u001b[0;34m()\u001b[0m\n\u001b[1;32m      1\u001b[0m \u001b[0;32mfrom\u001b[0m \u001b[0mbokeh\u001b[0m\u001b[0;34m.\u001b[0m\u001b[0mio\u001b[0m \u001b[0;32mimport\u001b[0m \u001b[0mexport_svgs\u001b[0m\u001b[0;34m\u001b[0m\u001b[0m\n\u001b[1;32m      2\u001b[0m \u001b[0mp\u001b[0m\u001b[0;34m.\u001b[0m\u001b[0moutput_backend\u001b[0m \u001b[0;34m=\u001b[0m \u001b[0;34m\"svg\"\u001b[0m\u001b[0;34m\u001b[0m\u001b[0m\n\u001b[0;32m----> 3\u001b[0;31m \u001b[0mexport_svgs\u001b[0m\u001b[0;34m(\u001b[0m\u001b[0mp\u001b[0m\u001b[0;34m,\u001b[0m \u001b[0mfilename\u001b[0m\u001b[0;34m=\u001b[0m\u001b[0mSYSTEM\u001b[0m \u001b[0;34m+\u001b[0m \u001b[0;34m\".svg\"\u001b[0m\u001b[0;34m)\u001b[0m\u001b[0;34m\u001b[0m\u001b[0m\n\u001b[0m",
      "\u001b[0;32m~/Projects/aslr-analyzer/env/lib/python3.6/site-packages/bokeh/io.py\u001b[0m in \u001b[0;36mexport_svgs\u001b[0;34m(obj, filename)\u001b[0m\n\u001b[1;32m    726\u001b[0m \u001b[0;34m\u001b[0m\u001b[0m\n\u001b[1;32m    727\u001b[0m     '''\n\u001b[0;32m--> 728\u001b[0;31m     \u001b[0msvgs\u001b[0m \u001b[0;34m=\u001b[0m \u001b[0m_get_svgs\u001b[0m\u001b[0;34m(\u001b[0m\u001b[0mobj\u001b[0m\u001b[0;34m)\u001b[0m\u001b[0;34m\u001b[0m\u001b[0m\n\u001b[0m\u001b[1;32m    729\u001b[0m \u001b[0;34m\u001b[0m\u001b[0m\n\u001b[1;32m    730\u001b[0m     \u001b[0;32mif\u001b[0m \u001b[0mlen\u001b[0m\u001b[0;34m(\u001b[0m\u001b[0msvgs\u001b[0m\u001b[0;34m)\u001b[0m \u001b[0;34m==\u001b[0m \u001b[0;36m0\u001b[0m\u001b[0;34m:\u001b[0m\u001b[0;34m\u001b[0m\u001b[0m\n",
      "\u001b[0;32m~/Projects/aslr-analyzer/env/lib/python3.6/site-packages/bokeh/io.py\u001b[0m in \u001b[0;36m_get_svgs\u001b[0;34m(obj)\u001b[0m\n\u001b[1;32m    678\u001b[0m                                 '(\"conda install -c bokeh selenium\" or \"pip install selenium\")')\n\u001b[1;32m    679\u001b[0m     \u001b[0;31m# assert that phantomjs is in path for webdriver\u001b[0m\u001b[0;34m\u001b[0m\u001b[0;34m\u001b[0m\u001b[0m\n\u001b[0;32m--> 680\u001b[0;31m     \u001b[0mdetect_phantomjs\u001b[0m\u001b[0;34m(\u001b[0m\u001b[0;34m)\u001b[0m\u001b[0;34m\u001b[0m\u001b[0m\n\u001b[0m\u001b[1;32m    681\u001b[0m \u001b[0;34m\u001b[0m\u001b[0m\n\u001b[1;32m    682\u001b[0m     \u001b[0mhtml_path\u001b[0m \u001b[0;34m=\u001b[0m \u001b[0mtempfile\u001b[0m\u001b[0;34m.\u001b[0m\u001b[0mNamedTemporaryFile\u001b[0m\u001b[0;34m(\u001b[0m\u001b[0msuffix\u001b[0m\u001b[0;34m=\u001b[0m\u001b[0;34m\".html\"\u001b[0m\u001b[0;34m)\u001b[0m\u001b[0;34m.\u001b[0m\u001b[0mname\u001b[0m\u001b[0;34m\u001b[0m\u001b[0m\n",
      "\u001b[0;32m~/Projects/aslr-analyzer/env/lib/python3.6/site-packages/bokeh/util/dependencies.py\u001b[0m in \u001b[0;36mdetect_phantomjs\u001b[0;34m()\u001b[0m\n\u001b[1;32m     64\u001b[0m     \u001b[0;32mexcept\u001b[0m \u001b[0mOSError\u001b[0m\u001b[0;34m:\u001b[0m\u001b[0;34m\u001b[0m\u001b[0m\n\u001b[1;32m     65\u001b[0m         raise RuntimeError('PhantomJS is not present in PATH. Try \"conda install phantomjs\" or \\\n\u001b[0;32m---> 66\u001b[0;31m                            \"npm install -g phantomjs-prebuilt\"')\n\u001b[0m\u001b[1;32m     67\u001b[0m     \u001b[0;32melse\u001b[0m\u001b[0;34m:\u001b[0m\u001b[0;34m\u001b[0m\u001b[0m\n\u001b[1;32m     68\u001b[0m         \u001b[0;32mreturn\u001b[0m \u001b[0mphantomjs_path\u001b[0m\u001b[0;34m\u001b[0m\u001b[0m\n",
      "\u001b[0;31mRuntimeError\u001b[0m: PhantomJS is not present in PATH. Try \"conda install phantomjs\" or                            \"npm install -g phantomjs-prebuilt\""
     ]
    }
   ],
   "source": [
    "from bokeh.io import export_svgs\n",
    "p.output_backend = \"svg\"\n",
    "export_svgs(p, filename=SYSTEM + \".svg\")"
   ]
  },
  {
   "cell_type": "code",
   "execution_count": null,
   "metadata": {
    "collapsed": true
   },
   "outputs": [],
   "source": []
  }
 ],
 "metadata": {
  "kernelspec": {
   "display_name": "Python 3",
   "language": "python",
   "name": "python3"
  },
  "language_info": {
   "codemirror_mode": {
    "name": "ipython",
    "version": 3
   },
   "file_extension": ".py",
   "mimetype": "text/x-python",
   "name": "python",
   "nbconvert_exporter": "python",
   "pygments_lexer": "ipython3",
   "version": "3.6.2"
  }
 },
 "nbformat": 4,
 "nbformat_minor": 2
}
