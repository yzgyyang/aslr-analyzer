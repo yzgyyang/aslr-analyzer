{
 "cells": [
  {
   "cell_type": "code",
   "execution_count": null,
   "metadata": {
    "collapsed": true
   },
   "outputs": [],
   "source": [
    "import numpy as np\n",
    "\n",
    "from bokeh.plotting import figure, output_notebook, show\n",
    "from bokeh.layouts import gridplot\n",
    "from bokeh.models import Range1d, PrintfTickFormatter\n",
    "from operator import itemgetter\n",
    "\n",
    "import ast"
   ]
  },
  {
   "cell_type": "code",
   "execution_count": null,
   "metadata": {},
   "outputs": [],
   "source": [
    "# Initialize Bokeh\n",
    "output_notebook()"
   ]
  },
  {
   "cell_type": "code",
   "execution_count": null,
   "metadata": {
    "collapsed": true
   },
   "outputs": [],
   "source": [
    "# System availability: ['freebsd', 'openbsd', 'dragonfly']\n",
    "SYSTEM = 'arch'\n",
    "f = open('data/' + SYSTEM +  '.out', 'r')\n",
    "\n",
    "# Convert input to Python dict of dict\n",
    "c = '[' + f.read() + ']'\n",
    "c = ast.literal_eval(c)"
   ]
  },
  {
   "cell_type": "code",
   "execution_count": null,
   "metadata": {
    "collapsed": true
   },
   "outputs": [],
   "source": [
    "# My Color Scheme\n",
    "BG_COLOR = \"#E6E6E6\"\n",
    "D1_COLOR = \"#602D25\"\n",
    "D2_COLOR = \"#C0A7A5\""
   ]
  },
  {
   "cell_type": "code",
   "execution_count": null,
   "metadata": {},
   "outputs": [],
   "source": [
    "TYPEDEFS = {\n",
    "    0: \"exec\",\n",
    "    1: \"malloc4k\",\n",
    "    2: \"malloc4m\",\n",
    "    3: \"mmap4k\",\n",
    "    4: \"mmap4k32\",\n",
    "    5: \"mmap4m\",\n",
    "    6: \"so1\",\n",
    "    7: \"so2\",\n",
    "    8: \"stack\"\n",
    "}\n",
    "    \n",
    "TYPE = 6\n",
    "c = [x[TYPE] for x in c]"
   ]
  },
  {
   "cell_type": "code",
   "execution_count": null,
   "metadata": {},
   "outputs": [],
   "source": [
    "# Basic Statics\n",
    "len_c = len(c)\n",
    "min_c = min(c)\n",
    "max_c = max(c)\n",
    "range_c = (max_c - min_c)\n",
    "interval_c = int(range_c / 100)\n",
    "print(len_c, min_c, max_c, range_c, interval_c)"
   ]
  },
  {
   "cell_type": "code",
   "execution_count": null,
   "metadata": {
    "collapsed": true
   },
   "outputs": [],
   "source": [
    "p = figure(title=TYPEDEFS[TYPE] + \" Raw Data Plot\", background_fill_color=BG_COLOR, plot_width=900, plot_height=600)"
   ]
  },
  {
   "cell_type": "code",
   "execution_count": null,
   "metadata": {},
   "outputs": [],
   "source": [
    "p.circle(range(len_c), c, size=0.6, color=D1_COLOR, alpha=0.5)"
   ]
  },
  {
   "cell_type": "code",
   "execution_count": null,
   "metadata": {
    "collapsed": true
   },
   "outputs": [],
   "source": [
    "p.xaxis.axis_label = 'sample'\n",
    "p.yaxis.axis_label = 'Address'\n",
    "\n",
    "p.below[0].formatter.use_scientific = False\n",
    "p.left[0].formatter = PrintfTickFormatter(format=\"0x%016x\")"
   ]
  },
  {
   "cell_type": "code",
   "execution_count": null,
   "metadata": {},
   "outputs": [],
   "source": [
    "show(p)"
   ]
  },
  {
   "cell_type": "code",
   "execution_count": null,
   "metadata": {},
   "outputs": [],
   "source": [
    "from bokeh.io import export_png\n",
    "export_png(p, filename=SYSTEM + \"_\" + TYPEDEFS[TYPE] + \"_raw\" + \".png\")\n",
    "\n",
    "from bokeh.embed import components\n",
    "script, div = components(p)\n",
    "\n",
    "with open(\"results/\" + SYSTEM + \"_\" + TYPEDEFS[TYPE] + \"_raw\" + \".html\", \"w\") as of:\n",
    "    of.write(script)\n",
    "    of.write(div)"
   ]
  },
  {
   "cell_type": "code",
   "execution_count": null,
   "metadata": {
    "collapsed": true
   },
   "outputs": [],
   "source": [
    "############################################################################"
   ]
  },
  {
   "cell_type": "code",
   "execution_count": null,
   "metadata": {
    "collapsed": true
   },
   "outputs": [],
   "source": [
    "p = figure(title=TYPEDEFS[TYPE] + \" Histogram (100 bins)\", background_fill_color=BG_COLOR, plot_width=900, plot_height=600)"
   ]
  },
  {
   "cell_type": "code",
   "execution_count": null,
   "metadata": {
    "collapsed": true
   },
   "outputs": [],
   "source": [
    "hist, edges = np.histogram(c, bins=100)\n",
    "hist = [x / len_c for x in hist]"
   ]
  },
  {
   "cell_type": "code",
   "execution_count": null,
   "metadata": {},
   "outputs": [],
   "source": [
    "p.line(np.linspace(0, 100, 100), 0.01, line_color=D2_COLOR, line_width=10, legend=\"Expected\")"
   ]
  },
  {
   "cell_type": "code",
   "execution_count": null,
   "metadata": {},
   "outputs": [],
   "source": [
    "p.line(range(100), hist, line_color=D1_COLOR, line_width=4, legend=\"Result\")"
   ]
  },
  {
   "cell_type": "code",
   "execution_count": null,
   "metadata": {
    "collapsed": true
   },
   "outputs": [],
   "source": [
    "p.legend.location = \"center_right\"\n",
    "p.legend.background_fill_color = \"darkgrey\"\n",
    "p.xaxis.axis_label = 'bins'\n",
    "p.yaxis.axis_label = 'Probability'"
   ]
  },
  {
   "cell_type": "code",
   "execution_count": null,
   "metadata": {
    "collapsed": true
   },
   "outputs": [],
   "source": [
    "p.y_range=Range1d(start=0, end=max(hist) + 0.002)"
   ]
  },
  {
   "cell_type": "code",
   "execution_count": null,
   "metadata": {},
   "outputs": [],
   "source": [
    "show(p)"
   ]
  },
  {
   "cell_type": "code",
   "execution_count": null,
   "metadata": {
    "collapsed": true
   },
   "outputs": [],
   "source": [
    "from bokeh.plotting import figure\n",
    "from bokeh.embed import components\n",
    "\n",
    "script, div = components(p)"
   ]
  },
  {
   "cell_type": "code",
   "execution_count": null,
   "metadata": {},
   "outputs": [],
   "source": [
    "from bokeh.io import export_png\n",
    "export_png(p, filename=SYSTEM + \"_\" + TYPEDEFS[TYPE] + \"_his\" + \".png\")\n",
    "\n",
    "from bokeh.embed import components\n",
    "script, div = components(p)\n",
    "\n",
    "with open(\"results/\" + SYSTEM + \"_\" + TYPEDEFS[TYPE] + \"_his\" + \".html\", \"a\") as of:\n",
    "    of.write(script)\n",
    "    of.write(div)"
   ]
  },
  {
   "cell_type": "code",
   "execution_count": null,
   "metadata": {
    "collapsed": true
   },
   "outputs": [],
   "source": [
    "############################################################################"
   ]
  },
  {
   "cell_type": "code",
   "execution_count": null,
   "metadata": {
    "collapsed": true
   },
   "outputs": [],
   "source": [
    "import scipy.special\n",
    "import scipy.stats\n",
    "\n",
    "from bokeh.plotting import figure, show, output_file"
   ]
  },
  {
   "cell_type": "code",
   "execution_count": null,
   "metadata": {
    "collapsed": true
   },
   "outputs": [],
   "source": [
    "p = figure(title=TYPEDEFS[TYPE] + \" Cumulative Distribution Function\", background_fill_color=BG_COLOR, plot_width=900, plot_height=600)"
   ]
  },
  {
   "cell_type": "code",
   "execution_count": null,
   "metadata": {
    "collapsed": true
   },
   "outputs": [],
   "source": [
    "hist, edges = np.histogram(c, bins=1000)\n",
    "\n",
    "x = np.linspace(0, 1000, 1000)\n",
    "\n",
    "cdf = np.cumsum(hist)"
   ]
  },
  {
   "cell_type": "code",
   "execution_count": null,
   "metadata": {},
   "outputs": [],
   "source": [
    "p.line(x, cdf, line_color=D1_COLOR, line_width=6, legend=\"CDF\")"
   ]
  },
  {
   "cell_type": "code",
   "execution_count": null,
   "metadata": {
    "collapsed": true
   },
   "outputs": [],
   "source": [
    "p.legend.location = \"center_right\"\n",
    "p.legend.background_fill_color = \"darkgrey\"\n",
    "p.xaxis.axis_label = 'bins'\n",
    "p.yaxis.axis_label = 'Probability'"
   ]
  },
  {
   "cell_type": "code",
   "execution_count": null,
   "metadata": {},
   "outputs": [],
   "source": [
    "show(p)"
   ]
  },
  {
   "cell_type": "code",
   "execution_count": null,
   "metadata": {
    "collapsed": true
   },
   "outputs": [],
   "source": [
    "from bokeh.plotting import figure\n",
    "from bokeh.embed import components\n",
    "\n",
    "script, div = components(p)"
   ]
  },
  {
   "cell_type": "code",
   "execution_count": null,
   "metadata": {},
   "outputs": [],
   "source": [
    "from bokeh.io import export_png\n",
    "export_png(p, filename=SYSTEM + \"_\" + TYPEDEFS[TYPE] + \"_cdf\" + \".png\")\n",
    "\n",
    "from bokeh.embed import components\n",
    "script, div = components(p)\n",
    "\n",
    "with open(\"results/\" + SYSTEM + \"_\" + TYPEDEFS[TYPE] + \"_cdf\" + \".html\", \"a\") as of:\n",
    "    of.write(script)\n",
    "    of.write(div)"
   ]
  },
  {
   "cell_type": "code",
   "execution_count": null,
   "metadata": {
    "collapsed": true
   },
   "outputs": [],
   "source": []
  }
 ],
 "metadata": {
  "kernelspec": {
   "display_name": "Python 3",
   "language": "python",
   "name": "python3"
  },
  "language_info": {
   "codemirror_mode": {
    "name": "ipython",
    "version": 3
   },
   "file_extension": ".py",
   "mimetype": "text/x-python",
   "name": "python",
   "nbconvert_exporter": "python",
   "pygments_lexer": "ipython3",
   "version": "3.5.2"
  }
 },
 "nbformat": 4,
 "nbformat_minor": 2
}
